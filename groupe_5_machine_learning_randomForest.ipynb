{
 "cells": [
  {
   "cell_type": "markdown",
   "id": "272e7a72",
   "metadata": {},
   "source": [
    "# Groupe5 TP RANDOM FOREST\n"
   ]
  },
  {
   "cell_type": "code",
   "execution_count": 48,
   "id": "38dbbc23",
   "metadata": {},
   "outputs": [],
   "source": [
    "\"\"\"\n",
    "Make the imports of python packages needed\n",
    "\"\"\"\n",
    "import pandas as pd\n",
    "import numpy as np\n",
    "from pprint import pprint\n",
    "import scipy.stats as sps"
   ]
  },
  {
   "cell_type": "code",
   "execution_count": 49,
   "id": "82b789f3",
   "metadata": {},
   "outputs": [],
   "source": [
    "dataset = pd.read_csv('mushrooms.csv',header=None)"
   ]
  },
  {
   "cell_type": "code",
   "execution_count": 50,
   "id": "6ab1c2b6",
   "metadata": {},
   "outputs": [],
   "source": [
    "dataset = dataset.sample(frac=1)\n",
    "dataset.columns = ['target','cap-shape','cap-surface','cap-color','bruises','odor','gill-attachment','gill-spacing','gill-size','gill-color','stalk-shape','stalk-root','stalk-surface-above-ring','stalk-surface-below-ring','stalk-color-above-ring','stalk-color-below-ring','veil-type','veil-color','ring-number','ring-type','spore-print-color','population','habitat']"
   ]
  },
  {
   "cell_type": "code",
   "execution_count": 51,
   "id": "17e863b1",
   "metadata": {},
   "outputs": [],
   "source": [
    "def entropy(target_col):\n",
    "    elements,counts = np.unique(target_col,return_counts = True)\n",
    "    entropy = np.sum([(-counts[i]/np.sum(counts))*np.log2(counts[i]/np.sum(counts)) for i in range(len(elements))])\n",
    "    return entropy"
   ]
  },
  {
   "cell_type": "code",
   "execution_count": 52,
   "id": "e2497db8",
   "metadata": {},
   "outputs": [],
   "source": [
    "def InfoGain(data,split_attribute_name,target_name=\"target\"):\n",
    "#Calculate the entropy of the total dataset\n",
    "    total_entropy = entropy(data[target_name])\n",
    "##Calculate the entropy of the dataset\n",
    "#Calculate the values and the corresponding counts for the split attribute\n",
    "    vals,counts= np.unique(data[split_attribute_name],return_counts=True)\n",
    "#Calculate the weighted entropy\n",
    "    Weighted_Entropy = np.sum([(counts[i]/np.sum(counts))*entropy(data.where(data[split_attribute_name]==vals[i]).dropna()[target_name]) for i in range(len(vals))])\n",
    "#Calculate the information gain\n",
    "    Information_Gain = total_entropy - Weighted_Entropy\n",
    "    return Information_Gain"
   ]
  },
  {
   "cell_type": "code",
   "execution_count": 53,
   "id": "9af60aa1",
   "metadata": {},
   "outputs": [],
   "source": [
    "def ID3(data,originaldata,features,target_attribute_name=\"target\",parent_node_class = None):\n",
    "#Define the stopping criteria --> If one of this is satisfied, we want to return a leaf node#\n",
    "#If all target_values have the same value, return this value\n",
    "    if len(np.unique(data[target_attribute_name])) <= 1:\n",
    "       \n",
    "    #return np.unique(data[target_attribute_name])[0]#r the features in the dataset\n",
    "        best_feature_index = np.argmax(item_values)\n",
    "        best_feature = features[best_feature_index]\n",
    "#Create the tree structure. The root gets the name of the feature (best_feature) with the maximum information\n",
    "#gain in the first run\n",
    "        tree = {best_feature:{}}\n",
    "#Remove the feature with the best inforamtion gain from the feature space\n",
    "        features = [i for i in features if i != best_feature]\n",
    "#Grow a branch under the root node for each possible value of the root node feature\n",
    "    for value in np.unique(data[best_feature]):\n",
    "            value = value\n",
    "#Split the dataset along the value of the feature with the largest information gain and therwith create sub_datasets\n",
    "            sub_data = data.where(data[best_feature] == value).dropna()\n",
    "#Call the ID3 algorithm for each of those sub_datasets with the new parameters --> Here the recursion comes in!\n",
    "            subtree = ID3(sub_data,dataset,features,target_attribute_name,parent_node_class)\n",
    "#Add the sub tree, grown from the sub_dataset to the tree under the root node\n",
    "            tree[best_feature][value] = subtree\n",
    "    return(tree)"
   ]
  },
  {
   "cell_type": "code",
   "execution_count": 54,
   "id": "3410c9ca",
   "metadata": {},
   "outputs": [],
   "source": [
    "def predict(query,tree,default = 'p'):\n",
    "    for key in list(query.keys()):\n",
    "        if key in list(tree.keys()):\n",
    "            try:\n",
    "                result = tree[key][query[key]]\n",
    "            except:\n",
    "                return default\n",
    "            result = tree[key][query[key]]\n",
    "        if isinstance(result,dict):\n",
    "            return predict(query,result)\n",
    "        else:\n",
    "            return result"
   ]
  },
  {
   "cell_type": "code",
   "execution_count": 55,
   "id": "5f28a69b",
   "metadata": {},
   "outputs": [],
   "source": [
    "def train_test_split(dataset):\n",
    "    training_data = dataset.iloc[:round(0.75*len(dataset))].reset_index(drop=True)#We drop the index respectively relabel the index\n",
    "    #starting form 0, because we do not want to run into errors regarding the row labels / indexes\n",
    "    testing_data = dataset.iloc[round(0.75*len(dataset)):].reset_index(drop=True)\n",
    "    return training_data,testing_data\n",
    "    training_data = train_test_split(dataset)[0]\n",
    "    testing_data = train_test_split(dataset)[1]"
   ]
  },
  {
   "cell_type": "code",
   "execution_count": 56,
   "id": "5564d398",
   "metadata": {},
   "outputs": [],
   "source": [
    "#######Train the Random Forest model###########\n",
    "def RandomForest_Train(dataset,number_of_Trees):\n",
    "#Create a list in which the single forests are stored\n",
    "    random_forest_sub_tree = []\n",
    "#Create a number of n models\n",
    "    for i in range(number_of_Trees):\n",
    "#Create a number of bootstrap sampled datasets from the original dataset\n",
    "        bootstrap_sample = dataset.sample(frac=1,replace=True)\n",
    "#Create a training and a testing datset by calling the train_test_split function\n",
    "        bootstrap_training_data = train_test_split(bootstrap_sample)[0]\n",
    "        bootstrap_testing_data = train_test_split(bootstrap_sample)[1]\n",
    "#Grow a tree model for each of the training data\n",
    "#We implement the subspace sampling in the ID3 algorithm itself. Hence take a look at the ID3 algorithm above!\n",
    "        random_forest_sub_tree.append(ID3(bootstrap_training_data,bootstrap_training_data,bootstrap_training_data.drop(labels=['target'],axis=1).columns))\n",
    "        return random_forest_sub_tree\n",
    "        random_forest = RandomForest_Train(dataset,50)"
   ]
  },
  {
   "cell_type": "code",
   "execution_count": 57,
   "id": "16dccac0",
   "metadata": {},
   "outputs": [],
   "source": [
    "def RandomForest_Train(dataset,number_of_Trees):\n",
    "#Create a list in which the single forests are stored\n",
    "    random_forest_sub_tree = []\n",
    "#Create a number of n models\n",
    "    for i in range(number_of_Trees):\n",
    "#Create a number of bootstrap sampled datasets from the original dataset\n",
    "        bootstrap_sample = dataset.sample(frac=1,replace=True)\n",
    "#Create a training and a testing datset by calling the train_test_split function\n",
    "        bootstrap_training_data = train_test_split(bootstrap_sample)[0]\n",
    "        bootstrap_testing_data = train_test_split(bootstrap_sample)[1]\n",
    "#Grow a tree model for each of the training data\n",
    "#We implement the subspace sampling in the ID3 algorithm itself. Hence take a look at the ID3 algorithm above!\n",
    "        random_forest_sub_tree.append(ID3(bootstrap_training_data,bootstrap_training_data,bootstrap_training_data.drop(labels=['target'],axis=1).columns))\n",
    "        return random_forest_sub_tree\n",
    "        random_forest = RandomForest_Train(dataset,50)\n"
   ]
  },
  {
   "cell_type": "code",
   "execution_count": 58,
   "id": "3bafd934",
   "metadata": {},
   "outputs": [],
   "source": [
    "#######Predict a new query instance###########\n",
    "def RandomForest_Predict(query,random_forest,default='p'):\n",
    "    predictions = []\n",
    "    for tree in random_forest:\n",
    "            predictions.append(predict(query,tree,default))\n",
    "            return sps.mode(predictions)[0][0]\n",
    "            query = testing_data.iloc[0,:].drop('target').to_dict()\n",
    "            query_target = testing_data.iloc[0,0]\n",
    "            print('target: ',query_target)\n",
    "            prediction = RandomForest_Predict(query,random_forest)\n",
    "            print('prediction: ',prediction)"
   ]
  },
  {
   "cell_type": "code",
   "execution_count": 59,
   "id": "ab3b3b69",
   "metadata": {},
   "outputs": [],
   "source": [
    "#######Test the model on the testing data and return the accuracy###########\n",
    "def RandomForest_Test(data,random_forest):\n",
    "    data['predictions'] = None\n",
    "    for i in range(len(data)):\n",
    "        query = data.iloc[i,:].drop('target').to_dict()\n",
    "        data.loc[i,'predictions'] = RandomForest_Predict(query,random_forest,default='p')\n",
    "        accuracy = sum(data['predictions'] == data['target'])/len(data)*100\n",
    "#print('The prediction accuracy is: ',sum(data['predictions']== data['target'])/len(data)*100,'%')\n",
    "        return accuracy\n",
    "        RandomForest_Test(testing_data,random_forest)"
   ]
  },
  {
   "cell_type": "code",
   "execution_count": 62,
   "id": "7b36f9bd",
   "metadata": {},
   "outputs": [
    {
     "ename": "UnboundLocalError",
     "evalue": "local variable 'best_feature' referenced before assignment",
     "output_type": "error",
     "traceback": [
      "\u001b[1;31m---------------------------------------------------------------------------\u001b[0m",
      "\u001b[1;31mUnboundLocalError\u001b[0m                         Traceback (most recent call last)",
      "\u001b[1;32m<ipython-input-62-5e6a96b5f8cd>\u001b[0m in \u001b[0;36m<module>\u001b[1;34m\u001b[0m\n\u001b[0;32m     13\u001b[0m \u001b[1;33m\u001b[0m\u001b[0m\n\u001b[0;32m     14\u001b[0m \u001b[1;32mfor\u001b[0m \u001b[0mi\u001b[0m \u001b[1;32min\u001b[0m \u001b[0mrange\u001b[0m\u001b[1;33m(\u001b[0m\u001b[1;36m1\u001b[0m\u001b[1;33m,\u001b[0m\u001b[1;36m11\u001b[0m\u001b[1;33m,\u001b[0m\u001b[1;36m1\u001b[0m\u001b[1;33m)\u001b[0m\u001b[1;33m:\u001b[0m\u001b[1;33m\u001b[0m\u001b[1;33m\u001b[0m\u001b[0m\n\u001b[1;32m---> 15\u001b[1;33m     \u001b[0mrandom_forest\u001b[0m \u001b[1;33m=\u001b[0m \u001b[0mRandomForest_Train\u001b[0m\u001b[1;33m(\u001b[0m\u001b[0mdataset\u001b[0m\u001b[1;33m,\u001b[0m\u001b[0mi\u001b[0m\u001b[1;33m)\u001b[0m\u001b[1;33m\u001b[0m\u001b[1;33m\u001b[0m\u001b[0m\n\u001b[0m\u001b[0;32m     16\u001b[0m     \u001b[0maccuracy\u001b[0m\u001b[1;33m.\u001b[0m\u001b[0mappend\u001b[0m\u001b[1;33m(\u001b[0m\u001b[0mRandomForest_Test\u001b[0m\u001b[1;33m(\u001b[0m\u001b[0mtesting_data\u001b[0m\u001b[1;33m,\u001b[0m\u001b[0mrandom_forest\u001b[0m\u001b[1;33m)\u001b[0m\u001b[1;33m)\u001b[0m\u001b[1;33m\u001b[0m\u001b[1;33m\u001b[0m\u001b[0m\n\u001b[0;32m     17\u001b[0m     \u001b[1;32mfor\u001b[0m \u001b[0mi\u001b[0m \u001b[1;32min\u001b[0m \u001b[0mrange\u001b[0m\u001b[1;33m(\u001b[0m\u001b[1;36m10\u001b[0m\u001b[1;33m,\u001b[0m\u001b[1;36m110\u001b[0m\u001b[1;33m,\u001b[0m\u001b[1;36m10\u001b[0m\u001b[1;33m)\u001b[0m\u001b[1;33m:\u001b[0m\u001b[1;33m\u001b[0m\u001b[1;33m\u001b[0m\u001b[0m\n",
      "\u001b[1;32m<ipython-input-57-aa108106cb23>\u001b[0m in \u001b[0;36mRandomForest_Train\u001b[1;34m(dataset, number_of_Trees)\u001b[0m\n\u001b[0;32m     11\u001b[0m \u001b[1;31m#Grow a tree model for each of the training data\u001b[0m\u001b[1;33m\u001b[0m\u001b[1;33m\u001b[0m\u001b[1;33m\u001b[0m\u001b[0m\n\u001b[0;32m     12\u001b[0m \u001b[1;31m#We implement the subspace sampling in the ID3 algorithm itself. Hence take a look at the ID3 algorithm above!\u001b[0m\u001b[1;33m\u001b[0m\u001b[1;33m\u001b[0m\u001b[1;33m\u001b[0m\u001b[0m\n\u001b[1;32m---> 13\u001b[1;33m         \u001b[0mrandom_forest_sub_tree\u001b[0m\u001b[1;33m.\u001b[0m\u001b[0mappend\u001b[0m\u001b[1;33m(\u001b[0m\u001b[0mID3\u001b[0m\u001b[1;33m(\u001b[0m\u001b[0mbootstrap_training_data\u001b[0m\u001b[1;33m,\u001b[0m\u001b[0mbootstrap_training_data\u001b[0m\u001b[1;33m,\u001b[0m\u001b[0mbootstrap_training_data\u001b[0m\u001b[1;33m.\u001b[0m\u001b[0mdrop\u001b[0m\u001b[1;33m(\u001b[0m\u001b[0mlabels\u001b[0m\u001b[1;33m=\u001b[0m\u001b[1;33m[\u001b[0m\u001b[1;34m'target'\u001b[0m\u001b[1;33m]\u001b[0m\u001b[1;33m,\u001b[0m\u001b[0maxis\u001b[0m\u001b[1;33m=\u001b[0m\u001b[1;36m1\u001b[0m\u001b[1;33m)\u001b[0m\u001b[1;33m.\u001b[0m\u001b[0mcolumns\u001b[0m\u001b[1;33m)\u001b[0m\u001b[1;33m)\u001b[0m\u001b[1;33m\u001b[0m\u001b[1;33m\u001b[0m\u001b[0m\n\u001b[0m\u001b[0;32m     14\u001b[0m         \u001b[1;32mreturn\u001b[0m \u001b[0mrandom_forest_sub_tree\u001b[0m\u001b[1;33m\u001b[0m\u001b[1;33m\u001b[0m\u001b[0m\n\u001b[0;32m     15\u001b[0m         \u001b[0mrandom_forest\u001b[0m \u001b[1;33m=\u001b[0m \u001b[0mRandomForest_Train\u001b[0m\u001b[1;33m(\u001b[0m\u001b[0mdataset\u001b[0m\u001b[1;33m,\u001b[0m\u001b[1;36m50\u001b[0m\u001b[1;33m)\u001b[0m\u001b[1;33m\u001b[0m\u001b[1;33m\u001b[0m\u001b[0m\n",
      "\u001b[1;32m<ipython-input-53-8b3027906707>\u001b[0m in \u001b[0;36mID3\u001b[1;34m(data, originaldata, features, target_attribute_name, parent_node_class)\u001b[0m\n\u001b[0;32m     13\u001b[0m         \u001b[0mfeatures\u001b[0m \u001b[1;33m=\u001b[0m \u001b[1;33m[\u001b[0m\u001b[0mi\u001b[0m \u001b[1;32mfor\u001b[0m \u001b[0mi\u001b[0m \u001b[1;32min\u001b[0m \u001b[0mfeatures\u001b[0m \u001b[1;32mif\u001b[0m \u001b[0mi\u001b[0m \u001b[1;33m!=\u001b[0m \u001b[0mbest_feature\u001b[0m\u001b[1;33m]\u001b[0m\u001b[1;33m\u001b[0m\u001b[1;33m\u001b[0m\u001b[0m\n\u001b[0;32m     14\u001b[0m \u001b[1;31m#Grow a branch under the root node for each possible value of the root node feature\u001b[0m\u001b[1;33m\u001b[0m\u001b[1;33m\u001b[0m\u001b[1;33m\u001b[0m\u001b[0m\n\u001b[1;32m---> 15\u001b[1;33m     \u001b[1;32mfor\u001b[0m \u001b[0mvalue\u001b[0m \u001b[1;32min\u001b[0m \u001b[0mnp\u001b[0m\u001b[1;33m.\u001b[0m\u001b[0munique\u001b[0m\u001b[1;33m(\u001b[0m\u001b[0mdata\u001b[0m\u001b[1;33m[\u001b[0m\u001b[0mbest_feature\u001b[0m\u001b[1;33m]\u001b[0m\u001b[1;33m)\u001b[0m\u001b[1;33m:\u001b[0m\u001b[1;33m\u001b[0m\u001b[1;33m\u001b[0m\u001b[0m\n\u001b[0m\u001b[0;32m     16\u001b[0m             \u001b[0mvalue\u001b[0m \u001b[1;33m=\u001b[0m \u001b[0mvalue\u001b[0m\u001b[1;33m\u001b[0m\u001b[1;33m\u001b[0m\u001b[0m\n\u001b[0;32m     17\u001b[0m \u001b[1;31m#Split the dataset along the value of the feature with the largest information gain and therwith create sub_datasets\u001b[0m\u001b[1;33m\u001b[0m\u001b[1;33m\u001b[0m\u001b[1;33m\u001b[0m\u001b[0m\n",
      "\u001b[1;31mUnboundLocalError\u001b[0m: local variable 'best_feature' referenced before assignment"
     ]
    },
    {
     "data": {
      "image/png": "[encoded data removed]",
      "text/plain": [
       "<Figure size 1080x720 with 1 Axes>"
      ]
     },
     "metadata": {},
     "output_type": "display_data"
    }
   ],
   "source": [
    "##################################################################\n",
    "############################################\n",
    "##########Plot the prediction accuracy with respect to the number of Trees in the random forests#############\n",
    "##################################################################\n",
    "############################################\n",
    "import matplotlib.pyplot as plt\n",
    "from matplotlib import style\n",
    "\n",
    "style.use('fivethirtyeight')\n",
    "fig = plt.figure(figsize=(15,10))\n",
    "ax0 = fig.add_subplot(111)\n",
    "accuracy = []\n",
    "\n",
    "for i in range(1,11,1):\n",
    "    random_forest = RandomForest_Train(dataset,i)\n",
    "    accuracy.append(RandomForest_Test(testing_data,random_forest))\n",
    "    for i in range(10,110,10):\n",
    "        random_forest = RandomForest_Train(dataset,i)\n",
    "        accuracy.append(RandomForest_Test(testing_data,random_forest))\n",
    "    for i in range(100,1100,100):\n",
    "        random_forest = RandomForest_Train(dataset,i)\n",
    "        accuracy.append(RandomForest_Test(testing_data,random_forest))\n",
    "        print(accuracy)\n",
    "        ax0.plot(np.logspace(0,3,30),accuracy)\n",
    "        ax0.set_yticks(np.linspace(50,100,50))\n",
    "        ax0.set_title(\"Accuracy with respect to the numer of trees in therandom forest\")\n",
    "        ax0.set_xscale('log')\n",
    "        ax0.set_xlabel(\"Number of Trees\")\n",
    "        ax0.set_ylabel('Accuracy(%)')\n",
    "\n",
    "        plt.show()"
   ]
  },
  {
   "cell_type": "code",
   "execution_count": null,
   "id": "588cb655",
   "metadata": {},
   "outputs": [],
   "source": [
    "from sklearn.ensemble import RandomForestClassifier\n",
    "from sklearn.preprocessing import LabelEncoder\n",
    "from sklearn.model_selection import cross_validate\n",
    "#Encode the feature values which are strings to integers\n",
    "for label in dataset.columns:\n",
    "    dataset[label] = LabelEncoder().fit(dataset[label]).transform(dataset[label])\n",
    "    X = dataset.drop(['target'],axis=1)\n",
    "    Y = dataset['target']\n",
    "#Instantiate the model with 100 trees and entropy as splitting criteria\n",
    "    Random_Forest_model = RandomForestClassifier(n_estimators=100,criterion=\"entropy\")\n",
    "#Cross validation\n",
    "    accuracy = cross_validate(Random_Forest_model,X,Y,cv=10)['test_score']\n",
    "    print('The accuracy is: ',sum(accuracy)/len(accuracy)*100,'%')"
   ]
  },
  {
   "cell_type": "code",
   "execution_count": null,
   "id": "8dfeaa13",
   "metadata": {},
   "outputs": [],
   "source": []
  }
 ],
 "metadata": {
  "kernelspec": {
   "display_name": "Python 3",
   "language": "python",
   "name": "python3"
  },
  "language_info": {
   "codemirror_mode": {
    "name": "ipython",
    "version": 3
   },
   "file_extension": ".py",
   "mimetype": "text/x-python",
   "name": "python",
   "nbconvert_exporter": "python",
   "pygments_lexer": "ipython3",
   "version": "3.8.8"
  }
 },
 "nbformat": 4,
 "nbformat_minor": 5
}
